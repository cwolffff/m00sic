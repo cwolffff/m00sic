{
 "cells": [
  {
   "cell_type": "markdown",
   "metadata": {
    "colab_type": "text",
    "id": "view-in-github"
   },
   "source": [
    "<a href=\"https://colab.research.google.com/github/cwolffff/m00sic/blob/main/notebooks/musicgen.ipynb\" target=\"_parent\"><img src=\"https://colab.research.google.com/assets/colab-badge.svg\" alt=\"Open In Colab\"/></a>"
   ]
  },
  {
   "cell_type": "markdown",
   "metadata": {
    "id": "-544JWKik-OU"
   },
   "source": [
    "## Prelims"
   ]
  },
  {
   "cell_type": "markdown",
   "metadata": {
    "id": "-c0G8vJrIXRK"
   },
   "source": [
    "### Install dependencies"
   ]
  },
  {
   "cell_type": "code",
   "execution_count": 3,
   "metadata": {
    "id": "_VIB1toAt-WR"
   },
   "outputs": [],
   "source": [
    "#@test {\"output\": \"ignore\"}\n",
    "\n",
    "# This only needs to be run ONCE:\n",
    "# !pip install -qU magenta pyfluidsynth pretty_midi"
   ]
  },
  {
   "cell_type": "markdown",
   "metadata": {
    "id": "0sRv6AuhIZ4Z"
   },
   "source": [
    "### Import packages"
   ]
  },
  {
   "cell_type": "code",
   "execution_count": 4,
   "metadata": {
    "colab": {
     "base_uri": "https://localhost:8080/"
    },
    "id": "Ob4yc5CDGVOm",
    "outputId": "444ba2cb-e51b-4e7a-c96c-4b6f7c8d6b64"
   },
   "outputs": [
    {
     "name": "stdout",
     "output_type": "stream",
     "text": [
      "Magenta version: 2.1.3\n"
     ]
    }
   ],
   "source": [
    "# Hack to allow python to pick up the fluidsynth lib. \n",
    "# This is only needed for the hosted Colab environment.\n",
    "import ctypes.util\n",
    "orig_ctypes_util_find_library = ctypes.util.find_library\n",
    "def proxy_find_library(lib):\n",
    "    if lib == \"fluidsynth\":\n",
    "        return \"libfluidsynth.so.1\"\n",
    "    else:\n",
    "        return orig_ctypes_util_find_library(lib)\n",
    "ctypes.util.find_library = proxy_find_library\n",
    "\n",
    "import magenta\n",
    "import note_seq\n",
    "from note_seq.protobuf import music_pb2\n",
    "\n",
    "print(f\"Magenta version: {magenta.__version__}\")"
   ]
  },
  {
   "cell_type": "markdown",
   "metadata": {
    "id": "7d0XpinbIdSq"
   },
   "source": [
    "### Test run"
   ]
  },
  {
   "cell_type": "code",
   "execution_count": null,
   "metadata": {
    "colab": {
     "base_uri": "https://localhost:8080/",
     "height": 274
    },
    "id": "0qJ4vF17QywL",
    "outputId": "f4a7eef6-ff0b-4c83-d34a-8b28220ede58"
   },
   "outputs": [],
   "source": [
    "twinkle_twinkle = music_pb2.NoteSequence()\n",
    "\n",
    "# Add the notes to the sequence.\n",
    "twinkle_twinkle.notes.add(pitch=60, start_time=0.0, end_time=0.5, velocity=80)\n",
    "twinkle_twinkle.notes.add(pitch=60, start_time=0.5, end_time=1.0, velocity=80)\n",
    "twinkle_twinkle.notes.add(pitch=67, start_time=1.0, end_time=1.5, velocity=80)\n",
    "twinkle_twinkle.notes.add(pitch=67, start_time=1.5, end_time=2.0, velocity=80)\n",
    "twinkle_twinkle.notes.add(pitch=69, start_time=2.0, end_time=2.5, velocity=80)\n",
    "twinkle_twinkle.notes.add(pitch=69, start_time=2.5, end_time=3.0, velocity=80)\n",
    "twinkle_twinkle.notes.add(pitch=67, start_time=3.0, end_time=4.0, velocity=80)\n",
    "twinkle_twinkle.notes.add(pitch=65, start_time=4.0, end_time=4.5, velocity=80)\n",
    "twinkle_twinkle.notes.add(pitch=65, start_time=4.5, end_time=5.0, velocity=80)\n",
    "twinkle_twinkle.notes.add(pitch=64, start_time=5.0, end_time=5.5, velocity=80)\n",
    "twinkle_twinkle.notes.add(pitch=64, start_time=5.5, end_time=6.0, velocity=80)\n",
    "twinkle_twinkle.notes.add(pitch=62, start_time=6.0, end_time=6.5, velocity=80)\n",
    "twinkle_twinkle.notes.add(pitch=62, start_time=6.5, end_time=7.0, velocity=80)\n",
    "twinkle_twinkle.notes.add(pitch=60, start_time=7.0, end_time=8.0, velocity=80) \n",
    "twinkle_twinkle.total_time = 8\n",
    "\n",
    "twinkle_twinkle.tempos.add(qpm=60);\n",
    "\n",
    "# This is a colab utility method that visualizes a NoteSequence.\n",
    "note_seq.plot_sequence(twinkle_twinkle)\n",
    "\n",
    "# This is a colab utility method that plays a NoteSequence.\n",
    "note_seq.play_sequence(twinkle_twinkle,synth=note_seq.fluidsynth)"
   ]
  },
  {
   "cell_type": "markdown",
   "metadata": {
    "id": "LzZ48vD2lNrC"
   },
   "source": [
    "## Step 1: Opening chords"
   ]
  },
  {
   "cell_type": "code",
   "execution_count": null,
   "metadata": {
    "id": "u76AGoyqcwgV"
   },
   "outputs": [],
   "source": [
    "import random\n",
    "\n",
    "notes_per_key = {\n",
    "    \"CM\": [21, 23, 24, 26, 28, 29, 31, 33, 35, 36, 38, 40, 41, 43, 45, 47, 48, 50, 52, 53, 55, 57, 59, 60, 62, 64, 65, 67, 69, 71, 72, 74, 76, 77, 79, 81, 83, 84, 86, 88, 89, 91, 93, 95, 96, 98, 100, 101, 103, 105, 107, 108],\n",
    "    \"GM\": [21,23,24,26,28,30,31,33,35,36,38,40,42,43,45,47,48,50,52,54,55,57,59,60,62,64,66,67,69,71,72,74,76,78,79,81,83,84,86,88,90,91,93,95,96,98,100,102,103,105,107,108],\n",
    "    \"DM\": [2,3,4,5],\n",
    "    \"AM\": [2,3,4,5],\n",
    "    \"EM\": [2,3,4,5],\n",
    "    \"BM\": [2,3,4,5],\n",
    "    \"FSM\": [2,3,4,5],\n",
    "    \"CSM\": [2,3,4,5],\n",
    "    \"Am\": [2,3,4,5],\n",
    "    \"Em\": [2,3,4,5],\n",
    "    \"Bm\": [2,3,4,5],\n",
    "    \"FSm\": [2,3,4,5],\n",
    "    \"CSm\": [2,3,4,5],\n",
    "    \"GSm\": [2,3,4,5],\n",
    "    \"DSm\": [2,3,4,5],\n",
    "    \"ASm\": [2,3,4,5]\n",
    "}\n",
    "\n",
    "tonic_note_per_key = {\n",
    "    \"CM\": 60,\n",
    "    \"GM\": 67,\n",
    "    \"DM\": 11,\n",
    "    \"AM\": 11,\n",
    "    \"EM\": 11,\n",
    "    \"BM\": 11,\n",
    "    \"FSM\": 11,\n",
    "    \"CSM\": 11,\n",
    "    \"Am\": 11,\n",
    "    \"Em\": 11,\n",
    "    \"Bm\": 11,\n",
    "    \"FSm\": 11,\n",
    "    \"CSm\": 11,\n",
    "    \"GSm\": 11,\n",
    "    \"DSm\": 11,\n",
    "    \"ASm\": 11\n",
    "}\n",
    "\n",
    "chord_steps = {\n",
    "    1: [0,4,7]\n",
    "}\n",
    "\n",
    "def pick_me_a_key_yo():\n",
    "  return random.choice(list(notes_per_key.keys()))\n"
   ]
  },
  {
   "cell_type": "markdown",
   "metadata": {
    "id": "TH90XWghlTj-"
   },
   "source": [
    "## Step 2: Chord progression"
   ]
  },
  {
   "cell_type": "code",
   "execution_count": null,
   "metadata": {
    "colab": {
     "base_uri": "https://localhost:8080/",
     "height": 428
    },
    "id": "egaBZVR9ot5g",
    "outputId": "a352edbf-5d48-40e6-a490-f5c82cba0256"
   },
   "outputs": [],
   "source": [
    "a_key = pick_me_a_key_yo()\n",
    "\n",
    "# returns tonic + some offset\n",
    "def get_me_a_starting_note_yo(key, offset):\n",
    "  if offset == \"I\":\n",
    "    return tonic_note_per_key[key]\n",
    "  elif offset == \"II\":\n",
    "    return notes_per_key[key][notes_per_key[key].index(tonic_note_per_key[key])+1]\n",
    "  elif offset == \"III\":\n",
    "    return notes_per_key[key][notes_per_key[key].index(tonic_note_per_key[key])+2]\n",
    "  elif offset == \"IV\":\n",
    "    return notes_per_key[key][notes_per_key[key].index(tonic_note_per_key[key])+3]\n",
    "  elif offset == \"V\":\n",
    "    return notes_per_key[key][notes_per_key[key].index(tonic_note_per_key[key])+4]\n",
    "  elif offset == \"VI\":\n",
    "    return notes_per_key[key][notes_per_key[key].index(tonic_note_per_key[key])+5]\n",
    "  else:\n",
    "    print(\"Invalid offset\")\n",
    "    return None\n",
    "\n",
    "def get_chord(key, note, chord):\n",
    "  if key not in notes_per_key:\n",
    "    print(\"Invalid Key\")\n",
    "    return None\n",
    "\n",
    "  # note must be valid in key\n",
    "  if note not in notes_per_key[key]:\n",
    "    print(\"Invalid Note\")\n",
    "    return None\n",
    "\n",
    "  if chord not in chord_steps:\n",
    "    print(\"Invalid Chord\")\n",
    "    return None\n",
    "\n",
    "  return [note+i for i in chord_steps[chord]]\n",
    "\n",
    "def get_chord_first_inversion(key, note, chord):\n",
    "  notes = get_chord(key,note,chord)\n",
    "  return notes[1:] + notes[:1]\n",
    "  \n",
    "def get_chord_second_inversion(key, note, chord):\n",
    "  notes = get_chord(key,note,chord)\n",
    "  return notes[-1:] + notes[:-1]\n",
    "\n",
    "def build_chord_progression(key):\n",
    "\n",
    "  note1 = get_me_a_starting_note_yo(key, \"I\")\n",
    "  chord1 = get_chord(key, note1, 1)\n",
    "\n",
    "  note2 = get_me_a_starting_note_yo(key, \"V\")\n",
    "  chord2 = get_chord_second_inversion(key, note2, 1)\n",
    "\n",
    "  note3 = get_me_a_starting_note_yo(key, \"VI\")\n",
    "  chord3 = get_chord_first_inversion(key, note3, 1)\n",
    "\n",
    "  note4 = get_me_a_starting_note_yo(key, \"IV\")\n",
    "  chord4 = get_chord_second_inversion(key, note4, 1)\n",
    "\n",
    "  return [chord1, chord2, chord3, chord4]\n",
    "\n",
    "\n",
    "print(get_chord(\"CM\", 60, 1))\n",
    "print(get_chord_first_inversion(\"CM\", 60, 1))\n",
    "print(get_chord_second_inversion(\"CM\", 60, 1))\n",
    "\n",
    "print(get_me_a_starting_note_yo(\"CM\", \"I\"))\n",
    "print(get_me_a_starting_note_yo(\"CM\", \"II\"))\n",
    "print(get_me_a_starting_note_yo(\"CM\", \"III\"))\n",
    "print(get_me_a_starting_note_yo(\"CM\", \"IV\"))\n",
    "print(get_me_a_starting_note_yo(\"CM\", \"V\"))\n",
    "\n",
    "print(build_chord_progression(\"CM\"))\n",
    "\n",
    "from note_seq.protobuf import music_pb2\n",
    "\n",
    "twinkle_twinkle = music_pb2.NoteSequence()\n",
    "\n",
    "# Add the notes to the sequence.\n",
    "twinkle_twinkle.notes.add(pitch=60, start_time=0.0, end_time=1.0, velocity=80)\n",
    "twinkle_twinkle.notes.add(pitch=64, start_time=0.0, end_time=1.0, velocity=80)\n",
    "twinkle_twinkle.notes.add(pitch=67, start_time=0.0, end_time=1.0, velocity=80)\n",
    "twinkle_twinkle.notes.add(pitch=74, start_time=1.0, end_time=2.0, velocity=80)\n",
    "twinkle_twinkle.notes.add(pitch=67, start_time=1.0, end_time=2.0, velocity=80)\n",
    "twinkle_twinkle.notes.add(pitch=71, start_time=1.0, end_time=2.0, velocity=80)\n",
    "twinkle_twinkle.notes.add(pitch=73, start_time=2.0, end_time=3.0, velocity=80)\n",
    "twinkle_twinkle.notes.add(pitch=76, start_time=2.0, end_time=4.0, velocity=80)\n",
    "twinkle_twinkle.notes.add(pitch=69, start_time=0, end_time=3.0, velocity=80)\n",
    "twinkle_twinkle.notes.add(pitch=69, start_time=2.0, end_time=3.0, velocity=80)\n",
    "twinkle_twinkle.notes.add(pitch=72, start_time=3.0, end_time=4.0, velocity=80)\n",
    "twinkle_twinkle.notes.add(pitch=65, start_time=33.0, end_time=4.0, velocity=80)\n",
    "twinkle_twinkle.total_time = 4\n",
    "\n",
    "twinkle_twinkle.tempos.add(qpm=60);\n",
    "\n",
    "# This is a colab utility method that visualizes a NoteSequence.\n",
    "note_seq.plot_sequence(twinkle_twinkle)\n",
    "\n",
    "# This is a colab utility method that plays a NoteSequence.\n",
    "note_seq.play_sequence(twinkle_twinkle,synth=note_seq.fluidsynth)"
   ]
  },
  {
   "cell_type": "markdown",
   "metadata": {
    "id": "8LRuVa5Plibb"
   },
   "source": [
    "## Step 3: Melody"
   ]
  },
  {
   "cell_type": "markdown",
   "metadata": {
    "id": "C7VChm5PliUq"
   },
   "source": [
    "## Step 4: Dynamics"
   ]
  },
  {
   "cell_type": "markdown",
   "metadata": {
    "id": "5hjrAzT5liK6"
   },
   "source": [
    "## Step 5: Structure"
   ]
  },
  {
   "cell_type": "code",
   "execution_count": null,
   "metadata": {
    "id": "ZTNUIw-mlm7W"
   },
   "outputs": [],
   "source": []
  }
 ],
 "metadata": {
  "colab": {
   "collapsed_sections": [],
   "include_colab_link": true,
   "name": "music_gen.ipynb",
   "provenance": []
  },
  "kernelspec": {
   "display_name": "magenta",
   "language": "python",
   "name": "magenta"
  },
  "language_info": {
   "codemirror_mode": {
    "name": "ipython",
    "version": 3
   },
   "file_extension": ".py",
   "mimetype": "text/x-python",
   "name": "python",
   "nbconvert_exporter": "python",
   "pygments_lexer": "ipython3",
   "version": "3.7.10"
  }
 },
 "nbformat": 4,
 "nbformat_minor": 1
}
